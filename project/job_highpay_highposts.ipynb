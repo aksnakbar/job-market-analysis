{
 "cells": [
  {
   "cell_type": "code",
   "execution_count": 18,
   "id": "7e819521",
   "metadata": {},
   "outputs": [
    {
     "data": {
      "text/html": [
       "<div>\n",
       "<style scoped>\n",
       "    .dataframe tbody tr th:only-of-type {\n",
       "        vertical-align: middle;\n",
       "    }\n",
       "\n",
       "    .dataframe tbody tr th {\n",
       "        vertical-align: top;\n",
       "    }\n",
       "\n",
       "    .dataframe thead th {\n",
       "        text-align: right;\n",
       "    }\n",
       "</style>\n",
       "<table border=\"1\" class=\"dataframe\">\n",
       "  <thead>\n",
       "    <tr style=\"text-align: right;\">\n",
       "      <th></th>\n",
       "      <th>mean</th>\n",
       "      <th>count</th>\n",
       "    </tr>\n",
       "    <tr>\n",
       "      <th>job_title_short</th>\n",
       "      <th></th>\n",
       "      <th></th>\n",
       "    </tr>\n",
       "  </thead>\n",
       "  <tbody>\n",
       "    <tr>\n",
       "      <th>Business Analyst</th>\n",
       "      <td>91082.612833</td>\n",
       "      <td>610</td>\n",
       "    </tr>\n",
       "    <tr>\n",
       "      <th>Data Analyst</th>\n",
       "      <td>93841.907854</td>\n",
       "      <td>5451</td>\n",
       "    </tr>\n",
       "    <tr>\n",
       "      <th>Cloud Engineer</th>\n",
       "      <td>111268.453846</td>\n",
       "      <td>65</td>\n",
       "    </tr>\n",
       "    <tr>\n",
       "      <th>Software Engineer</th>\n",
       "      <td>113393.760054</td>\n",
       "      <td>467</td>\n",
       "    </tr>\n",
       "    <tr>\n",
       "      <th>Senior Data Analyst</th>\n",
       "      <td>113911.363665</td>\n",
       "      <td>1131</td>\n",
       "    </tr>\n",
       "  </tbody>\n",
       "</table>\n",
       "</div>"
      ],
      "text/plain": [
       "                              mean  count\n",
       "job_title_short                          \n",
       "Business Analyst      91082.612833    610\n",
       "Data Analyst          93841.907854   5451\n",
       "Cloud Engineer       111268.453846     65\n",
       "Software Engineer    113393.760054    467\n",
       "Senior Data Analyst  113911.363665   1131"
      ]
     },
     "execution_count": 18,
     "metadata": {},
     "output_type": "execute_result"
    }
   ],
   "source": [
    "# I want to find the jobs that have high average slalry, high job postings and maximum salary for the job posting\n",
    "\n",
    "\n",
    "import pandas as pd\n",
    "import matplotlib.pyplot as plt\n",
    "import ast\n",
    "\n",
    "pd.set_option('display.max_columns', None)\n",
    "pd.set_option('display.width', 1000)\n",
    "\n",
    "file = \"C:\\\\Users\\\\aksha\\\\data_analysis_job_market\\\\dataset\\\\data_jobs.csv\"\n",
    "df = pd.read_csv(file)\n",
    "\n",
    "## first let me group by job_title and find the average salary for that job title\n",
    "df_avg_salary = df.groupby(['job_title_short'])['salary_year_avg'].agg(['mean','count']).sort_values(by= 'mean',ascending=True)\n",
    "\n",
    "df_avg_salary.head()"
   ]
  },
  {
   "cell_type": "code",
   "execution_count": 21,
   "id": "5bb0d5de",
   "metadata": {},
   "outputs": [
    {
     "name": "stdout",
     "output_type": "stream",
     "text": [
      "                            mean           count\n",
      "                 salary_year_avg salary_year_avg\n",
      "job_title_short                                 \n",
      "Business Analyst    91082.612833             610\n",
      "Cloud Engineer     111268.453846              65\n",
      "Data Analyst        93841.907854            5451\n",
      "Data Engineer      130125.604250            4500\n",
      "Data Scientist     135988.837171            5922\n"
     ]
    }
   ],
   "source": [
    "## Pivot table to find the high paying jobs with their average salaries and maximum salaries \n",
    "\n",
    "df_salary_summary= pd.pivot_table(\n",
    "    df,\n",
    "    index = 'job_title_short',\n",
    "    values= 'salary_year_avg',\n",
    "    aggfunc= ['mean','count']\n",
    ")\n",
    "print(df_salary_summary.head())\n",
    "\n",
    "\n"
   ]
  }
 ],
 "metadata": {
  "kernelspec": {
   "display_name": "venv",
   "language": "python",
   "name": "python3"
  },
  "language_info": {
   "codemirror_mode": {
    "name": "ipython",
    "version": 3
   },
   "file_extension": ".py",
   "mimetype": "text/x-python",
   "name": "python",
   "nbconvert_exporter": "python",
   "pygments_lexer": "ipython3",
   "version": "3.13.5"
  }
 },
 "nbformat": 4,
 "nbformat_minor": 5
}
