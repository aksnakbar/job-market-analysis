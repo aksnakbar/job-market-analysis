{
 "cells": [
  {
   "cell_type": "code",
   "execution_count": 6,
   "id": "f91c099f",
   "metadata": {},
   "outputs": [
    {
     "data": {
      "text/html": [
       "<div>\n",
       "<style scoped>\n",
       "    .dataframe tbody tr th:only-of-type {\n",
       "        vertical-align: middle;\n",
       "    }\n",
       "\n",
       "    .dataframe tbody tr th {\n",
       "        vertical-align: top;\n",
       "    }\n",
       "\n",
       "    .dataframe thead th {\n",
       "        text-align: right;\n",
       "    }\n",
       "</style>\n",
       "<table border=\"1\" class=\"dataframe\">\n",
       "  <thead>\n",
       "    <tr style=\"text-align: right;\">\n",
       "      <th></th>\n",
       "      <th>job_title_short</th>\n",
       "      <th>job_skills</th>\n",
       "    </tr>\n",
       "  </thead>\n",
       "  <tbody>\n",
       "    <tr>\n",
       "      <th>0</th>\n",
       "      <td>Senior Data Engineer</td>\n",
       "      <td>NaN</td>\n",
       "    </tr>\n",
       "    <tr>\n",
       "      <th>1</th>\n",
       "      <td>Data Analyst</td>\n",
       "      <td>['r', 'python', 'sql', 'nosql', 'power bi', 't...</td>\n",
       "    </tr>\n",
       "    <tr>\n",
       "      <th>2</th>\n",
       "      <td>Data Engineer</td>\n",
       "      <td>['python', 'sql', 'c#', 'azure', 'airflow', 'd...</td>\n",
       "    </tr>\n",
       "    <tr>\n",
       "      <th>3</th>\n",
       "      <td>Data Engineer</td>\n",
       "      <td>['python', 'c++', 'java', 'matlab', 'aws', 'te...</td>\n",
       "    </tr>\n",
       "    <tr>\n",
       "      <th>4</th>\n",
       "      <td>Data Engineer</td>\n",
       "      <td>['bash', 'python', 'oracle', 'aws', 'ansible',...</td>\n",
       "    </tr>\n",
       "    <tr>\n",
       "      <th>5</th>\n",
       "      <td>Data Engineer</td>\n",
       "      <td>['python', 'sql', 'gcp']</td>\n",
       "    </tr>\n",
       "    <tr>\n",
       "      <th>6</th>\n",
       "      <td>Senior Data Engineer</td>\n",
       "      <td>['sql', 'python', 'java', 'sql server', 'gcp',...</td>\n",
       "    </tr>\n",
       "    <tr>\n",
       "      <th>7</th>\n",
       "      <td>Data Engineer</td>\n",
       "      <td>['sql', 'nosql', 'gcp', 'azure', 'aws', 'bigqu...</td>\n",
       "    </tr>\n",
       "    <tr>\n",
       "      <th>8</th>\n",
       "      <td>Business Analyst</td>\n",
       "      <td>['excel', 'powerpoint', 'power bi']</td>\n",
       "    </tr>\n",
       "    <tr>\n",
       "      <th>9</th>\n",
       "      <td>Data Scientist</td>\n",
       "      <td>['sql', 'python', 'r', 'mongodb', 'mongodb', '...</td>\n",
       "    </tr>\n",
       "  </tbody>\n",
       "</table>\n",
       "</div>"
      ],
      "text/plain": [
       "        job_title_short                                         job_skills\n",
       "0  Senior Data Engineer                                                NaN\n",
       "1          Data Analyst  ['r', 'python', 'sql', 'nosql', 'power bi', 't...\n",
       "2         Data Engineer  ['python', 'sql', 'c#', 'azure', 'airflow', 'd...\n",
       "3         Data Engineer  ['python', 'c++', 'java', 'matlab', 'aws', 'te...\n",
       "4         Data Engineer  ['bash', 'python', 'oracle', 'aws', 'ansible',...\n",
       "5         Data Engineer                           ['python', 'sql', 'gcp']\n",
       "6  Senior Data Engineer  ['sql', 'python', 'java', 'sql server', 'gcp',...\n",
       "7         Data Engineer  ['sql', 'nosql', 'gcp', 'azure', 'aws', 'bigqu...\n",
       "8      Business Analyst                ['excel', 'powerpoint', 'power bi']\n",
       "9        Data Scientist  ['sql', 'python', 'r', 'mongodb', 'mongodb', '..."
      ]
     },
     "execution_count": 6,
     "metadata": {},
     "output_type": "execute_result"
    }
   ],
   "source": [
    "## import data from a csv file\n",
    "\n",
    "import pandas as pd\n",
    "import matplotlib.pyplot as plt\n",
    "import ast\n",
    "\n",
    "pd.set_option('display.max_columns', None)\n",
    "pd.set_option('display.width', 1000)\n",
    "\n",
    "file = \"C:\\\\Users\\\\aksha\\\\data_analysis_job_market\\\\dataset\\\\data_jobs.csv\"\n",
    "df = pd.read_csv(file)\n",
    "\n",
    "# 1.clean the data by converting the job_posted_date into a datetime object from a string\n",
    "\n",
    "df['job_posted_date'] = pd.to_datetime(df['job_posted_date'])\n",
    "\n",
    "df[['job_title_short','job_skills']].head(10)\n"
   ]
  },
  {
   "cell_type": "code",
   "execution_count": 7,
   "id": "b169403b",
   "metadata": {},
   "outputs": [
    {
     "name": "stdout",
     "output_type": "stream",
     "text": [
      "<class 'pandas.core.frame.DataFrame'>\n",
      "RangeIndex: 785741 entries, 0 to 785740\n",
      "Data columns (total 17 columns):\n",
      " #   Column                 Non-Null Count   Dtype         \n",
      "---  ------                 --------------   -----         \n",
      " 0   job_title_short        785741 non-null  object        \n",
      " 1   job_title              785740 non-null  object        \n",
      " 2   job_location           784696 non-null  object        \n",
      " 3   job_via                785733 non-null  object        \n",
      " 4   job_schedule_type      773074 non-null  object        \n",
      " 5   job_work_from_home     785741 non-null  bool          \n",
      " 6   search_location        785741 non-null  object        \n",
      " 7   job_posted_date        785741 non-null  datetime64[ns]\n",
      " 8   job_no_degree_mention  785741 non-null  bool          \n",
      " 9   job_health_insurance   785741 non-null  bool          \n",
      " 10  job_country            785692 non-null  object        \n",
      " 11  salary_rate            33067 non-null   object        \n",
      " 12  salary_year_avg        22003 non-null   float64       \n",
      " 13  salary_hour_avg        10662 non-null   float64       \n",
      " 14  company_name           785723 non-null  object        \n",
      " 15  job_skills             668704 non-null  object        \n",
      " 16  job_type_skills        668704 non-null  object        \n",
      "dtypes: bool(3), datetime64[ns](1), float64(2), object(11)\n",
      "memory usage: 86.2+ MB\n"
     ]
    }
   ],
   "source": [
    "df.info()"
   ]
  },
  {
   "cell_type": "code",
   "execution_count": null,
   "id": "a379adb1",
   "metadata": {},
   "outputs": [
    {
     "name": "stdout",
     "output_type": "stream",
     "text": [
      "0    Data Analyst\n",
      "Name: job_title_short, dtype: object\n"
     ]
    },
    {
     "data": {
      "text/html": [
       "<div>\n",
       "<style scoped>\n",
       "    .dataframe tbody tr th:only-of-type {\n",
       "        vertical-align: middle;\n",
       "    }\n",
       "\n",
       "    .dataframe tbody tr th {\n",
       "        vertical-align: top;\n",
       "    }\n",
       "\n",
       "    .dataframe thead th {\n",
       "        text-align: right;\n",
       "    }\n",
       "</style>\n",
       "<table border=\"1\" class=\"dataframe\">\n",
       "  <thead>\n",
       "    <tr style=\"text-align: right;\">\n",
       "      <th></th>\n",
       "      <th>job_posted_date</th>\n",
       "      <th>salary_year_avg</th>\n",
       "      <th>salary_hour_avg</th>\n",
       "    </tr>\n",
       "  </thead>\n",
       "  <tbody>\n",
       "    <tr>\n",
       "      <th>count</th>\n",
       "      <td>785741</td>\n",
       "      <td>22003.000000</td>\n",
       "      <td>10662.000000</td>\n",
       "    </tr>\n",
       "    <tr>\n",
       "      <th>mean</th>\n",
       "      <td>2023-06-25 16:02:11.860248576</td>\n",
       "      <td>123286.274072</td>\n",
       "      <td>47.016598</td>\n",
       "    </tr>\n",
       "    <tr>\n",
       "      <th>min</th>\n",
       "      <td>2023-01-01 00:00:04</td>\n",
       "      <td>15000.000000</td>\n",
       "      <td>8.000000</td>\n",
       "    </tr>\n",
       "    <tr>\n",
       "      <th>25%</th>\n",
       "      <td>2023-03-20 10:05:48</td>\n",
       "      <td>90000.000000</td>\n",
       "      <td>27.500000</td>\n",
       "    </tr>\n",
       "    <tr>\n",
       "      <th>50%</th>\n",
       "      <td>2023-06-29 06:11:38</td>\n",
       "      <td>115000.000000</td>\n",
       "      <td>45.980000</td>\n",
       "    </tr>\n",
       "    <tr>\n",
       "      <th>75%</th>\n",
       "      <td>2023-09-27 01:01:16</td>\n",
       "      <td>150000.000000</td>\n",
       "      <td>61.159996</td>\n",
       "    </tr>\n",
       "    <tr>\n",
       "      <th>max</th>\n",
       "      <td>2023-12-31 23:59:58</td>\n",
       "      <td>960000.000000</td>\n",
       "      <td>391.000000</td>\n",
       "    </tr>\n",
       "    <tr>\n",
       "      <th>std</th>\n",
       "      <td>NaN</td>\n",
       "      <td>48312.449482</td>\n",
       "      <td>21.890738</td>\n",
       "    </tr>\n",
       "  </tbody>\n",
       "</table>\n",
       "</div>"
      ],
      "text/plain": [
       "                     job_posted_date  salary_year_avg  salary_hour_avg\n",
       "count                         785741     22003.000000     10662.000000\n",
       "mean   2023-06-25 16:02:11.860248576    123286.274072        47.016598\n",
       "min              2023-01-01 00:00:04     15000.000000         8.000000\n",
       "25%              2023-03-20 10:05:48     90000.000000        27.500000\n",
       "50%              2023-06-29 06:11:38    115000.000000        45.980000\n",
       "75%              2023-09-27 01:01:16    150000.000000        61.159996\n",
       "max              2023-12-31 23:59:58    960000.000000       391.000000\n",
       "std                              NaN     48312.449482        21.890738"
      ]
     },
     "execution_count": 25,
     "metadata": {},
     "output_type": "execute_result"
    }
   ],
   "source": [
    "\n",
    "df.describe()"
   ]
  },
  {
   "cell_type": "code",
   "execution_count": 8,
   "id": "219ab504",
   "metadata": {},
   "outputs": [],
   "source": [
    "df['job_skills'] = df['job_skills'].apply(lambda x: ast.literal_eval(x) if pd.notna(x) else x)"
   ]
  },
  {
   "cell_type": "code",
   "execution_count": null,
   "id": "8464a1cf",
   "metadata": {},
   "outputs": [
    {
     "name": "stdout",
     "output_type": "stream",
     "text": [
      "        job_title_short  job_skills\n",
      "0  Senior Data Engineer         NaN\n",
      "1          Data Analyst           r\n",
      "1          Data Analyst      python\n",
      "1          Data Analyst         sql\n",
      "1          Data Analyst       nosql\n",
      "1          Data Analyst    power bi\n",
      "1          Data Analyst     tableau\n",
      "2         Data Engineer      python\n",
      "2         Data Engineer         sql\n",
      "2         Data Engineer          c#\n",
      "2         Data Engineer       azure\n",
      "2         Data Engineer     airflow\n",
      "2         Data Engineer         dax\n",
      "2         Data Engineer      docker\n",
      "2         Data Engineer  kubernetes\n",
      "2         Data Engineer     jenkins\n",
      "3         Data Engineer      python\n",
      "3         Data Engineer         c++\n",
      "3         Data Engineer        java\n",
      "3         Data Engineer      matlab\n"
     ]
    }
   ],
   "source": [
    "df_exploded = df.explode('job_skills')\n",
    "print(df_exploded[['job_title_short','job_skills']].head(20))\n"
   ]
  },
  {
   "cell_type": "code",
   "execution_count": null,
   "id": "c8b0cc85",
   "metadata": {},
   "outputs": [],
   "source": [
    "\n",
    "print(high_demand_skills)"
   ]
  },
  {
   "cell_type": "code",
   "execution_count": 10,
   "id": "63514da0",
   "metadata": {},
   "outputs": [
    {
     "name": "stdout",
     "output_type": "stream",
     "text": [
      "job_title_short    job_skills\n",
      "Business Analyst   airflow        318\n",
      "                   airtable        17\n",
      "                   alteryx       1078\n",
      "                   angular         87\n",
      "                   ansible        120\n",
      "                                 ... \n",
      "Software Engineer  wrike            4\n",
      "                   wsl             13\n",
      "                   xamarin         35\n",
      "                   yarn           145\n",
      "                   zoom           229\n",
      "Length: 2256, dtype: int64\n"
     ]
    }
   ],
   "source": [
    "skills_count = df_exploded.groupby(['job_title_short','job_skills']).size()\n",
    "print(skills_count)"
   ]
  },
  {
   "cell_type": "code",
   "execution_count": 11,
   "id": "a213042e",
   "metadata": {},
   "outputs": [],
   "source": [
    "df_skills_count = skills_count.reset_index(name = 'skill_count')\n",
    "df_skills_count = df_skills_count.sort_values(by='skill_count',ascending = False)\n"
   ]
  },
  {
   "cell_type": "code",
   "execution_count": 12,
   "id": "50aa7c4d",
   "metadata": {},
   "outputs": [
    {
     "name": "stdout",
     "output_type": "stream",
     "text": [
      "    job_title_short  job_skills  skill_count\n",
      "625    Data Analyst         sql        92428\n",
      "494    Data Analyst       excel        66860\n",
      "590    Data Analyst      python        57190\n",
      "638    Data Analyst     tableau        46455\n",
      "583    Data Analyst    power bi        39380\n",
      "594    Data Analyst           r        29996\n",
      "606    Data Analyst         sas        27998\n",
      "585    Data Analyst  powerpoint        13822\n",
      "664    Data Analyst        word        13562\n",
      "605    Data Analyst         sap        11280\n"
     ]
    }
   ],
   "source": [
    "job_name = 'Data Analyst'\n",
    "number_of_topskills =10\n",
    "\n",
    "df_with_top_skills = df_skills_count[df_skills_count['job_title_short']==job_name].sort_values(by='skill_count',ascending=False).head(number_of_topskills)\n",
    "print(df_with_top_skills)"
   ]
  },
  {
   "cell_type": "code",
   "execution_count": 13,
   "id": "12cce2ca",
   "metadata": {},
   "outputs": [
    {
     "data": {
      "text/plain": [
       "Text(0, 0.5, 'Top skills')"
      ]
     },
     "execution_count": 13,
     "metadata": {},
     "output_type": "execute_result"
    },
    {
     "data": {
      "image/png": "[encoded data removed]",
      "text/plain": [
       "<Figure size 640x480 with 1 Axes>"
      ]
     },
     "metadata": {},
     "output_type": "display_data"
    }
   ],
   "source": [
    "df_with_top_skills.plot(x='job_skills',kind='barh')\n",
    "plt.title(f'The top {number_of_topskills} skills for {job_name}')\n",
    "plt.ylabel('Top skills')"
   ]
  },
  {
   "cell_type": "code",
   "execution_count": 21,
   "id": "c21f2eb1",
   "metadata": {},
   "outputs": [
    {
     "data": {
      "image/png": "[encoded data removed]",
      "text/plain": [
       "<Figure size 640x480 with 3 Axes>"
      ]
     },
     "metadata": {},
     "output_type": "display_data"
    }
   ],
   "source": [
    "## lets plot some subplot for 3 data related jobs using subplots\n",
    "\n",
    "\n",
    "jobs = ['Data Analyst','Data Engineer','Data Scientist']\n",
    "\n",
    "import matplotlib.pyplot as plt\n",
    "\n",
    "fig, ax = plt.subplots(3,1)\n",
    "\n",
    "\n",
    "for i, job in enumerate(jobs):\n",
    "    job_plot = df_skills_count[df_skills_count['job_title_short']==job].head(5)\n",
    "    job_plot.plot(kind='barh',x ='job_skills',y='skill_count',ax=ax[i],title=job)\n",
    "    ax[i].invert_yaxis()\n",
    "    ax[i].set_ylabel('')\n",
    "    ax[i].legend().set_visible(False)\n",
    "    ax[i].set_xlim(0,120000)\n",
    "\n",
    "fig.suptitle('Counts of Top skills in job postings',fontsize=15)\n",
    "plt.tight_layout()\n"
   ]
  }
 ],
 "metadata": {
  "kernelspec": {
   "display_name": "venv",
   "language": "python",
   "name": "python3"
  },
  "language_info": {
   "codemirror_mode": {
    "name": "ipython",
    "version": 3
   },
   "file_extension": ".py",
   "mimetype": "text/x-python",
   "name": "python",
   "nbconvert_exporter": "python",
   "pygments_lexer": "ipython3",
   "version": "3.13.5"
  }
 },
 "nbformat": 4,
 "nbformat_minor": 5
}
