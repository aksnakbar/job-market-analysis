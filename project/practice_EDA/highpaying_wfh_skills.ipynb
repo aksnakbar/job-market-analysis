{
 "cells": [
  {
   "cell_type": "code",
   "execution_count": 57,
   "id": "ff3bacdf",
   "metadata": {},
   "outputs": [
    {
     "data": {
      "text/html": [
       "<div>\n",
       "<style scoped>\n",
       "    .dataframe tbody tr th:only-of-type {\n",
       "        vertical-align: middle;\n",
       "    }\n",
       "\n",
       "    .dataframe tbody tr th {\n",
       "        vertical-align: top;\n",
       "    }\n",
       "\n",
       "    .dataframe thead th {\n",
       "        text-align: right;\n",
       "    }\n",
       "</style>\n",
       "<table border=\"1\" class=\"dataframe\">\n",
       "  <thead>\n",
       "    <tr style=\"text-align: right;\">\n",
       "      <th></th>\n",
       "      <th>job_title_short</th>\n",
       "      <th>job_title</th>\n",
       "      <th>job_location</th>\n",
       "      <th>job_via</th>\n",
       "      <th>job_schedule_type</th>\n",
       "      <th>job_work_from_home</th>\n",
       "      <th>search_location</th>\n",
       "      <th>job_posted_date</th>\n",
       "      <th>job_no_degree_mention</th>\n",
       "      <th>job_health_insurance</th>\n",
       "      <th>job_country</th>\n",
       "      <th>salary_rate</th>\n",
       "      <th>salary_year_avg</th>\n",
       "      <th>salary_hour_avg</th>\n",
       "      <th>company_name</th>\n",
       "      <th>job_skills</th>\n",
       "      <th>job_type_skills</th>\n",
       "    </tr>\n",
       "  </thead>\n",
       "  <tbody>\n",
       "    <tr>\n",
       "      <th>5</th>\n",
       "      <td>Data Engineer</td>\n",
       "      <td>GCP Data Engineer</td>\n",
       "      <td>Anywhere</td>\n",
       "      <td>via ZipRecruiter</td>\n",
       "      <td>Contractor and Temp work</td>\n",
       "      <td>True</td>\n",
       "      <td>Georgia</td>\n",
       "      <td>2023-11-07 14:01:59</td>\n",
       "      <td>False</td>\n",
       "      <td>False</td>\n",
       "      <td>United States</td>\n",
       "      <td>NaN</td>\n",
       "      <td>NaN</td>\n",
       "      <td>NaN</td>\n",
       "      <td>smart folks inc</td>\n",
       "      <td>['python', 'sql', 'gcp']</td>\n",
       "      <td>{'cloud': ['gcp'], 'programming': ['python', '...</td>\n",
       "    </tr>\n",
       "    <tr>\n",
       "      <th>9</th>\n",
       "      <td>Data Scientist</td>\n",
       "      <td>Data Scientist II</td>\n",
       "      <td>Anywhere</td>\n",
       "      <td>via ZipRecruiter</td>\n",
       "      <td>Full-time</td>\n",
       "      <td>True</td>\n",
       "      <td>New York, United States</td>\n",
       "      <td>2023-04-23 13:02:57</td>\n",
       "      <td>False</td>\n",
       "      <td>False</td>\n",
       "      <td>United States</td>\n",
       "      <td>NaN</td>\n",
       "      <td>NaN</td>\n",
       "      <td>NaN</td>\n",
       "      <td>Radwell International, LLC</td>\n",
       "      <td>['sql', 'python', 'r', 'mongodb', 'mongodb', '...</td>\n",
       "      <td>{'analyst_tools': ['excel'], 'cloud': ['azure'...</td>\n",
       "    </tr>\n",
       "    <tr>\n",
       "      <th>51</th>\n",
       "      <td>Senior Data Engineer</td>\n",
       "      <td>Senior Data Engineer</td>\n",
       "      <td>Anywhere</td>\n",
       "      <td>via LinkedIn</td>\n",
       "      <td>Contractor</td>\n",
       "      <td>True</td>\n",
       "      <td>Illinois, United States</td>\n",
       "      <td>2023-06-21 13:09:39</td>\n",
       "      <td>False</td>\n",
       "      <td>False</td>\n",
       "      <td>United States</td>\n",
       "      <td>hour</td>\n",
       "      <td>NaN</td>\n",
       "      <td>72.5</td>\n",
       "      <td>Aditi Consulting</td>\n",
       "      <td>['python', 'java', 'aws', 'databricks', 'spark']</td>\n",
       "      <td>{'cloud': ['aws', 'databricks'], 'libraries': ...</td>\n",
       "    </tr>\n",
       "    <tr>\n",
       "      <th>73</th>\n",
       "      <td>Data Analyst</td>\n",
       "      <td>Entry level / Systems Data Analyst (Remote)</td>\n",
       "      <td>Anywhere</td>\n",
       "      <td>via LinkedIn</td>\n",
       "      <td>Contractor</td>\n",
       "      <td>True</td>\n",
       "      <td>Illinois, United States</td>\n",
       "      <td>2023-06-16 13:18:22</td>\n",
       "      <td>True</td>\n",
       "      <td>True</td>\n",
       "      <td>United States</td>\n",
       "      <td>NaN</td>\n",
       "      <td>NaN</td>\n",
       "      <td>NaN</td>\n",
       "      <td>Soft Magic</td>\n",
       "      <td>['word', 'excel', 'powerpoint', 'outlook']</td>\n",
       "      <td>{'analyst_tools': ['word', 'excel', 'powerpoin...</td>\n",
       "    </tr>\n",
       "    <tr>\n",
       "      <th>92</th>\n",
       "      <td>Data Engineer</td>\n",
       "      <td>Remote - Data Engineer - Permanent - W2</td>\n",
       "      <td>Anywhere</td>\n",
       "      <td>via LinkedIn</td>\n",
       "      <td>Full-time</td>\n",
       "      <td>True</td>\n",
       "      <td>Illinois, United States</td>\n",
       "      <td>2023-02-21 13:29:59</td>\n",
       "      <td>False</td>\n",
       "      <td>True</td>\n",
       "      <td>United States</td>\n",
       "      <td>year</td>\n",
       "      <td>120000.0</td>\n",
       "      <td>NaN</td>\n",
       "      <td>Apex Systems</td>\n",
       "      <td>['sql', 'python']</td>\n",
       "      <td>{'programming': ['sql', 'python']}</td>\n",
       "    </tr>\n",
       "  </tbody>\n",
       "</table>\n",
       "</div>"
      ],
      "text/plain": [
       "         job_title_short                                    job_title job_location           job_via         job_schedule_type  job_work_from_home          search_location      job_posted_date  job_no_degree_mention  job_health_insurance    job_country salary_rate  salary_year_avg  salary_hour_avg                company_name                                         job_skills                                    job_type_skills\n",
       "5          Data Engineer                            GCP Data Engineer     Anywhere  via ZipRecruiter  Contractor and Temp work                True                  Georgia  2023-11-07 14:01:59                  False                 False  United States         NaN              NaN              NaN             smart folks inc                           ['python', 'sql', 'gcp']  {'cloud': ['gcp'], 'programming': ['python', '...\n",
       "9         Data Scientist                            Data Scientist II     Anywhere  via ZipRecruiter                 Full-time                True  New York, United States  2023-04-23 13:02:57                  False                 False  United States         NaN              NaN              NaN  Radwell International, LLC  ['sql', 'python', 'r', 'mongodb', 'mongodb', '...  {'analyst_tools': ['excel'], 'cloud': ['azure'...\n",
       "51  Senior Data Engineer                         Senior Data Engineer     Anywhere      via LinkedIn                Contractor                True  Illinois, United States  2023-06-21 13:09:39                  False                 False  United States        hour              NaN             72.5            Aditi Consulting   ['python', 'java', 'aws', 'databricks', 'spark']  {'cloud': ['aws', 'databricks'], 'libraries': ...\n",
       "73          Data Analyst  Entry level / Systems Data Analyst (Remote)     Anywhere      via LinkedIn                Contractor                True  Illinois, United States  2023-06-16 13:18:22                   True                  True  United States         NaN              NaN              NaN                  Soft Magic         ['word', 'excel', 'powerpoint', 'outlook']  {'analyst_tools': ['word', 'excel', 'powerpoin...\n",
       "92         Data Engineer      Remote - Data Engineer - Permanent - W2     Anywhere      via LinkedIn                 Full-time                True  Illinois, United States  2023-02-21 13:29:59                  False                  True  United States        year         120000.0              NaN                Apex Systems                                  ['sql', 'python']                 {'programming': ['sql', 'python']}"
      ]
     },
     "execution_count": 57,
     "metadata": {},
     "output_type": "execute_result"
    }
   ],
   "source": [
    "## Finding out the high paying skills for remote jobs in the country\n",
    "\n",
    "import pandas as pd\n",
    "import matplotlib.pyplot as plt\n",
    "import ast\n",
    "\n",
    "pd.set_option('display.max_columns', None)\n",
    "pd.set_option('display.width', 1000)\n",
    "\n",
    "file = \"C:\\\\Users\\\\aksha\\\\data_analysis_job_market\\\\dataset\\\\data_jobs.csv\"\n",
    "df = pd.read_csv(file)\n",
    "\n",
    "## data frame containing only jobs from the US and have work from home option\n",
    "\n",
    "df_US_wfh = df[(df['job_country']=='United States') & (df['job_work_from_home']==True)].copy()\n",
    "df_US_wfh.head()\n",
    "\n"
   ]
  },
  {
   "cell_type": "code",
   "execution_count": 58,
   "id": "7e9d31b4",
   "metadata": {},
   "outputs": [],
   "source": [
    "type(df_US_wfh.loc[5,'job_skills'])\n",
    "\n",
    "## job skills is  a string instead of a list so I need to convert the string into a list\n",
    "\n",
    "def converter(skill):\n",
    "\n",
    "    if pd.isna(skill):\n",
    "        return []\n",
    "    else :\n",
    "        return ast.literal_eval(skill)\n",
    "\n",
    "\n",
    "df_US_wfh['job_skills'] = df_US_wfh['job_skills'].apply(converter)\n",
    "\n",
    "\n"
   ]
  },
  {
   "cell_type": "code",
   "execution_count": 59,
   "id": "bf85642d",
   "metadata": {},
   "outputs": [
    {
     "data": {
      "text/plain": [
       "list"
      ]
     },
     "execution_count": 59,
     "metadata": {},
     "output_type": "execute_result"
    }
   ],
   "source": [
    "type(df_US_wfh.loc[5,'job_skills'])"
   ]
  },
  {
   "cell_type": "code",
   "execution_count": 60,
   "id": "8cf2a0bc",
   "metadata": {},
   "outputs": [
    {
     "data": {
      "text/plain": [
       "job_skills\n",
       "sql        14449\n",
       "python     13591\n",
       "aws         5817\n",
       "tableau     5122\n",
       "r           5070\n",
       "           ...  \n",
       "lisp           1\n",
       "symfony        1\n",
       "unreal         1\n",
       "xamarin        1\n",
       "wsl            1\n",
       "Name: count, Length: 221, dtype: int64"
      ]
     },
     "execution_count": 60,
     "metadata": {},
     "output_type": "execute_result"
    }
   ],
   "source": [
    "## data is ready to be accessed and analysed\n",
    "## get skills corresponding to high pay : first explode the skills , you will get one row per skill the grop by skilland sort by salary\n",
    "\n",
    "df_exploded = df_US_wfh.explode('job_skills')\n",
    "df_skills = df_exploded.groupby(['job_skills'])\n",
    "df_skills = df_skills[['job_skills']].value_counts().sort_values(ascending = False)\n",
    "df_skills\n"
   ]
  },
  {
   "cell_type": "code",
   "execution_count": 61,
   "id": "6d50080a",
   "metadata": {},
   "outputs": [
    {
     "data": {
      "text/plain": [
       "<Axes: xlabel='job_skills'>"
      ]
     },
     "execution_count": 61,
     "metadata": {},
     "output_type": "execute_result"
    },
    {
     "data": {
      "image/png": "[encoded data removed]",
      "text/plain": [
       "<Figure size 640x480 with 1 Axes>"
      ]
     },
     "metadata": {},
     "output_type": "display_data"
    }
   ],
   "source": [
    "top_skills = df_skills.head(5).index.to_list()\n",
    "df_skills_to_plot = df_skills[top_skills]\n",
    "df_skills_to_plot.plot(kind='bar')"
   ]
  }
 ],
 "metadata": {
  "kernelspec": {
   "display_name": "venv",
   "language": "python",
   "name": "python3"
  },
  "language_info": {
   "codemirror_mode": {
    "name": "ipython",
    "version": 3
   },
   "file_extension": ".py",
   "mimetype": "text/x-python",
   "name": "python",
   "nbconvert_exporter": "python",
   "pygments_lexer": "ipython3",
   "version": "3.13.5"
  }
 },
 "nbformat": 4,
 "nbformat_minor": 5
}
