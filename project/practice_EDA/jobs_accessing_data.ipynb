{
 "cells": [
  {
   "cell_type": "code",
   "execution_count": 10,
   "id": "5b288c64",
   "metadata": {},
   "outputs": [
    {
     "name": "stdout",
     "output_type": "stream",
     "text": [
      "        job_title_short                                          job_title                  job_location             job_via job_schedule_type  job_work_from_home       search_location      job_posted_date  job_no_degree_mention  job_health_insurance    job_country salary_rate  salary_year_avg  salary_hour_avg                  company_name                                         job_skills                                    job_type_skills\n",
      "0  Senior Data Engineer  Senior Clinical Data Engineer / Principal Clin...                 Watertown, CT     via Work Nearby         Full-time               False  Texas, United States  2023-06-16 13:44:15                  False                 False  United States         NaN              NaN              NaN          Boehringer Ingelheim                                                NaN                                                NaN\n",
      "1          Data Analyst                                       Data Analyst  Guadalajara, Jalisco, Mexico    via BeBee México         Full-time               False                Mexico  2023-01-14 13:18:07                  False                 False         Mexico         NaN              NaN              NaN    Hewlett Packard Enterprise  ['r', 'python', 'sql', 'nosql', 'power bi', 't...  {'analyst_tools': ['power bi', 'tableau'], 'pr...\n",
      "2         Data Engineer  Data Engineer/Scientist/Analyst, Mid or Senior...               Berlin, Germany        via LinkedIn         Full-time               False               Germany  2023-10-10 13:14:55                  False                 False        Germany         NaN              NaN              NaN      ALPHA Augmented Services  ['python', 'sql', 'c#', 'azure', 'airflow', 'd...  {'analyst_tools': ['dax'], 'cloud': ['azure'],...\n",
      "3         Data Engineer  LEAD ENGINEER - PRINCIPAL ANALYST - PRINCIPAL ...               San Antonio, TX   via Diversity.com         Full-time               False  Texas, United States  2023-07-04 13:01:41                   True                 False  United States         NaN              NaN              NaN  Southwest Research Institute  ['python', 'c++', 'java', 'matlab', 'aws', 'te...  {'cloud': ['aws'], 'libraries': ['tensorflow',...\n",
      "4         Data Engineer                             Data Engineer- Sr Jobs                Washington, DC  via Clearance Jobs         Full-time               False                 Sudan  2023-08-07 14:29:36                  False                 False          Sudan         NaN              NaN              NaN               Kristina Daniel  ['bash', 'python', 'oracle', 'aws', 'ansible',...  {'cloud': ['oracle', 'aws'], 'other': ['ansibl...\n"
     ]
    }
   ],
   "source": [
    "import pandas as pd\n",
    "\n",
    "pd.set_option('display.max_columns', None)\n",
    "pd.set_option('display.width', 1000)\n",
    "\n",
    "df = pd.read_csv('C:\\\\Users\\\\aksha\\\\data_analysis_job_market\\\\dataset\\\\data_jobs.csv')\n",
    "print(df.head())"
   ]
  },
  {
   "cell_type": "code",
   "execution_count": 12,
   "id": "740ac228",
   "metadata": {},
   "outputs": [
    {
     "name": "stdout",
     "output_type": "stream",
     "text": [
      "        job_title_short                                          job_title                  job_location             job_via job_schedule_type  job_work_from_home       search_location     job_posted_date  job_no_degree_mention  job_health_insurance    job_country salary_rate  salary_year_avg  salary_hour_avg                  company_name                                         job_skills                                    job_type_skills  job_posted_month\n",
      "0  Senior Data Engineer  Senior Clinical Data Engineer / Principal Clin...                 Watertown, CT     via Work Nearby         Full-time               False  Texas, United States 2023-06-16 13:44:15                  False                 False  United States         NaN              NaN              NaN          Boehringer Ingelheim                                                NaN                                                NaN                 6\n",
      "1          Data Analyst                                       Data Analyst  Guadalajara, Jalisco, Mexico    via BeBee México         Full-time               False                Mexico 2023-01-14 13:18:07                  False                 False         Mexico         NaN              NaN              NaN    Hewlett Packard Enterprise  ['r', 'python', 'sql', 'nosql', 'power bi', 't...  {'analyst_tools': ['power bi', 'tableau'], 'pr...                 1\n",
      "2         Data Engineer  Data Engineer/Scientist/Analyst, Mid or Senior...               Berlin, Germany        via LinkedIn         Full-time               False               Germany 2023-10-10 13:14:55                  False                 False        Germany         NaN              NaN              NaN      ALPHA Augmented Services  ['python', 'sql', 'c#', 'azure', 'airflow', 'd...  {'analyst_tools': ['dax'], 'cloud': ['azure'],...                10\n",
      "3         Data Engineer  LEAD ENGINEER - PRINCIPAL ANALYST - PRINCIPAL ...               San Antonio, TX   via Diversity.com         Full-time               False  Texas, United States 2023-07-04 13:01:41                   True                 False  United States         NaN              NaN              NaN  Southwest Research Institute  ['python', 'c++', 'java', 'matlab', 'aws', 'te...  {'cloud': ['aws'], 'libraries': ['tensorflow',...                 7\n",
      "4         Data Engineer                             Data Engineer- Sr Jobs                Washington, DC  via Clearance Jobs         Full-time               False                 Sudan 2023-08-07 14:29:36                  False                 False          Sudan         NaN              NaN              NaN               Kristina Daniel  ['bash', 'python', 'oracle', 'aws', 'ansible',...  {'cloud': ['oracle', 'aws'], 'other': ['ansibl...                 8\n"
     ]
    }
   ],
   "source": [
    "df['job_posted_date']= pd.to_datetime(df.job_posted_date)\n",
    "df['job_posted_month']= df.job_posted_date.dt.month\n",
    "print(df.head())"
   ]
  },
  {
   "cell_type": "code",
   "execution_count": 31,
   "id": "1011f1a0",
   "metadata": {},
   "outputs": [
    {
     "name": "stdout",
     "output_type": "stream",
     "text": [
      "         job_title_short                                          job_title                        job_location                                            job_via         job_schedule_type  job_work_from_home            search_location     job_posted_date  job_no_degree_mention  job_health_insurance    job_country salary_rate  salary_year_avg  salary_hour_avg                              company_name                                         job_skills                                    job_type_skills  job_posted_month\n",
      "0   Senior Data Engineer  Senior Clinical Data Engineer / Principal Clin...                       Watertown, CT                                    via Work Nearby                 Full-time               False       Texas, United States 2023-06-16 13:44:15                  False                 False  United States         NaN              NaN              NaN                      Boehringer Ingelheim                                                NaN                                                NaN                 6\n",
      "3          Data Engineer  LEAD ENGINEER - PRINCIPAL ANALYST - PRINCIPAL ...                     San Antonio, TX                                  via Diversity.com                 Full-time               False       Texas, United States 2023-07-04 13:01:41                   True                 False  United States         NaN              NaN              NaN              Southwest Research Institute  ['python', 'c++', 'java', 'matlab', 'aws', 'te...  {'cloud': ['aws'], 'libraries': ['tensorflow',...                 7\n",
      "5          Data Engineer                                  GCP Data Engineer                            Anywhere                                   via ZipRecruiter  Contractor and Temp work                True                    Georgia 2023-11-07 14:01:59                  False                 False  United States         NaN              NaN              NaN                           smart folks inc                           ['python', 'sql', 'gcp']  {'cloud': ['gcp'], 'programming': ['python', '...                11\n",
      "6   Senior Data Engineer                  Senior Data Engineer  - GCP Cloud                        Dearborn, MI                                       via LinkedIn                 Full-time               False     Florida, United States 2023-03-27 13:18:18                  False                 False  United States         NaN              NaN              NaN             Miracle Software Systems, Inc  ['sql', 'python', 'java', 'sql server', 'gcp',...  {'cloud': ['gcp', 'bigquery'], 'databases': ['...                 3\n",
      "9         Data Scientist                                  Data Scientist II                            Anywhere                                   via ZipRecruiter                 Full-time                True    New York, United States 2023-04-23 13:02:57                  False                 False  United States         NaN              NaN              NaN                Radwell International, LLC  ['sql', 'python', 'r', 'mongodb', 'mongodb', '...  {'analyst_tools': ['excel'], 'cloud': ['azure'...                 4\n",
      "11         Data Engineer                                      Data Engineer  Colorado Springs, CO   (+3 others)                                       via The Muse                 Full-time               False       Texas, United States 2023-11-03 13:06:51                  False                  True  United States         NaN              NaN              NaN                                   Philips                                 ['python', 'qlik']  {'analyst_tools': ['qlik'], 'programming': ['p...                11\n",
      "13  Senior Data Engineer                               Senior Data Engineer                        New York, NY                                       via LinkedIn                 Full-time               False       Texas, United States 2023-11-15 13:08:52                   True                  True  United States         NaN              NaN              NaN                                     Nayya  ['python', 'sql', 'go', 'ruby', 'ruby', 'javas...  {'cloud': ['aws'], 'other': ['terraform'], 'pr...                11\n",
      "17        Data Scientist                             Data Science Team Lead                          Laurel, MD  via APL Careers - Johns Hopkins University App...                 Full-time               False                    Georgia 2023-06-13 13:25:17                  False                  True  United States         NaN              NaN              NaN  Johns Hopkins Applied Physics Laboratory                             ['go', 'apl', 'excel']  {'analyst_tools': ['excel'], 'programming': ['...                 6\n",
      "26         Data Engineer                                      Data Engineer                       United States                                       via LinkedIn                 Full-time               False                    Georgia 2023-09-15 13:56:18                   True                 False  United States         NaN              NaN              NaN               Infinite Computer Solutions                                                NaN                                                NaN                 9\n",
      "27         Data Engineer  Principal Data Engineer (Lead), Knowledge Grap...                   San Francisco, CA                                       via LinkedIn                 Full-time               False                    Georgia 2023-02-18 13:31:24                  False                 False  United States         NaN              NaN              NaN                                Altos Labs                            ['python', 'r', 'java']           {'programming': ['python', 'r', 'java']}                 2\n",
      "30  Senior Data Engineer     Senior Data Engineer (Work from home Eligible)                      Wilmington, DE                                      via WDHN Jobs                 Full-time               False       Texas, United States 2023-03-29 13:32:03                  False                  True  United States         NaN              NaN              NaN                               Capital One  ['scala', 'python', 'nosql', 'mongo', 'shell',...  {'cloud': ['redshift', 'snowflake', 'aws', 'az...                 3\n",
      "32        Data Scientist   Sr. Data Scientist (NLP) - Full-time / Part-time                          Dallas, TX                                       via Snagajob                 Full-time               False       Texas, United States 2023-03-13 13:07:03                  False                  True  United States         NaN              NaN              NaN                                  MCKESSON  ['python', 'azure', 'databricks', 'pyspark', '...  {'cloud': ['azure', 'databricks'], 'libraries'...                 3\n",
      "35         Data Engineer                        Data Engineer - Royal Canin                      St Charles, MO                              via My ArkLaMiss Jobs                 Full-time               False  California, United States 2023-02-17 13:10:21                   True                  True  United States         NaN              NaN              NaN                                      Mars  ['python', 'sql', 'neo4j', 'databricks', 'azur...  {'cloud': ['databricks', 'azure'], 'databases'...                 2\n",
      "36          Data Analyst                                       Data Analyst                      Des Moines, IA                                    via Trabajo.org                 Full-time               False    Illinois, United States 2023-11-06 13:01:22                  False                  True  United States         NaN              NaN              NaN                           Assuredpartners                                                NaN                                                NaN                11\n",
      "37         Data Engineer                     Data Engineer III - Now Hiring                          Boston, MA                                       via Snagajob                 Full-time               False    Illinois, United States 2023-07-10 13:08:19                  False                  True  United States         NaN              NaN              NaN  American Family Mutual Insurance Company  ['python', 'sql', 'nosql', 'aws', 'gcp', 'azur...  {'cloud': ['aws', 'gcp', 'azure'], 'libraries'...                 7\n",
      "39         Data Engineer                                      Data Engineer                      Fort Worth, TX                                       via LinkedIn                 Full-time               False       Texas, United States 2023-01-25 13:24:01                  False                 False  United States         NaN              NaN              NaN                            Programmers.io                                  ['sql', 'python']                 {'programming': ['sql', 'python']}                 1\n",
      "40        Data Scientist        Data Scientist, Data Strategy and Analytics                         Alameda, CA                                    via Trabajo.org                 Full-time               False  California, United States 2023-04-26 13:05:10                  False                 False  United States         NaN              NaN              NaN                                    Abbott                                                NaN                                                NaN                 4\n",
      "41        Data Scientist                                   Data Scientist I                           Paris, KY                                   via Jobs By Care                 Full-time               False                    Georgia 2023-11-13 14:59:39                  False                 False  United States         NaN              NaN              NaN           Appalachian Regional Healthcare  ['r', 'sql', 'python', 'scala', 'java', 'c++',...  {'analyst_tools': ['tableau'], 'libraries': ['...                11\n",
      "43  Senior Data Engineer  Sr SQL Database Engineer with Data Warehouse /...                                 NaN                                       via LinkedIn                Contractor               False       Texas, United States 2023-09-13 13:06:55                   True                 False  United States        hour              NaN             97.5                                    Phaxis                              ['sql', 'sql server']  {'databases': ['sql server'], 'programming': [...                 9\n",
      "51  Senior Data Engineer                               Senior Data Engineer                            Anywhere                                       via LinkedIn                Contractor                True    Illinois, United States 2023-06-21 13:09:39                  False                 False  United States        hour              NaN             72.5                          Aditi Consulting   ['python', 'java', 'aws', 'databricks', 'spark']  {'cloud': ['aws', 'databricks'], 'libraries': ...                 6\n"
     ]
    }
   ],
   "source": [
    "us_jobs = df[df['job_country']=='United States']\n",
    "print(us_jobs.head(20))"
   ]
  },
  {
   "cell_type": "code",
   "execution_count": 32,
   "id": "45799e51",
   "metadata": {},
   "outputs": [
    {
     "name": "stdout",
     "output_type": "stream",
     "text": [
      "    job_title_short                                          job_title       job_location       job_via job_schedule_type  job_work_from_home            search_location     job_posted_date  job_no_degree_mention  job_health_insurance    job_country salary_rate  salary_year_avg  salary_hour_avg                     company_name                                         job_skills                                    job_type_skills  job_posted_month\n",
      "92    Data Engineer            Remote - Data Engineer - Permanent - W2           Anywhere  via LinkedIn         Full-time                True    Illinois, United States 2023-02-21 13:29:59                  False                  True  United States        year         120000.0              NaN                     Apex Systems                                  ['sql', 'python']                 {'programming': ['sql', 'python']}                 2\n",
      "100  Data Scientist            Data Scientist, Risk Data Mining - USDS  Mountain View, CA  via LinkedIn         Full-time               False  California, United States 2023-07-31 13:01:18                  False                  True  United States        year         228222.0              NaN                           TikTok                  ['sql', 'r', 'python', 'express']  {'programming': ['sql', 'r', 'python'], 'webfr...                 7\n",
      "109    Data Analyst              Senior Supply Chain Analytics Analyst           Anywhere    via Get.It         Full-time                True    Illinois, United States 2023-10-12 13:02:19                  False                  True  United States        year          89000.0              NaN  Get It Recruit - Transportation              ['python', 'r', 'alteryx', 'tableau']  {'analyst_tools': ['alteryx', 'tableau'], 'pro...                10\n",
      "116  Data Scientist                                     Data Scientist           Anywhere  via LinkedIn         Full-time                True       Texas, United States 2023-10-04 13:04:23                  False                 False  United States        year         114000.0              NaN               4 Corner Resources  ['r', 'python', 'sql', 't-sql', 'hadoop', 'spa...  {'analyst_tools': ['tableau'], 'libraries': ['...                10\n",
      "146   Data Engineer  Data Engineer Graduate (Real Time Communicatio...        Seattle, WA  via LinkedIn         Full-time               False  California, United States 2023-10-21 13:06:16                  False                  True  United States        year         129500.0              NaN                        ByteDance  ['golang', 'scala', 'python', 'java', 'hadoop'...  {'libraries': ['hadoop', 'spark'], 'programmin...                10\n"
     ]
    }
   ],
   "source": [
    "## only display jobs where yearly salary average is notNAN\n",
    "\n",
    "us_jobs = us_jobs[us_jobs['salary_year_avg'].notna()]\n",
    "print(us_jobs.head())"
   ]
  },
  {
   "cell_type": "code",
   "execution_count": 33,
   "id": "34fd0f42",
   "metadata": {},
   "outputs": [
    {
     "data": {
      "text/html": [
       "<div>\n",
       "<style scoped>\n",
       "    .dataframe tbody tr th:only-of-type {\n",
       "        vertical-align: middle;\n",
       "    }\n",
       "\n",
       "    .dataframe tbody tr th {\n",
       "        vertical-align: top;\n",
       "    }\n",
       "\n",
       "    .dataframe thead th {\n",
       "        text-align: right;\n",
       "    }\n",
       "</style>\n",
       "<table border=\"1\" class=\"dataframe\">\n",
       "  <thead>\n",
       "    <tr style=\"text-align: right;\">\n",
       "      <th></th>\n",
       "      <th>salary_year_avg</th>\n",
       "    </tr>\n",
       "    <tr>\n",
       "      <th>job_title_short</th>\n",
       "      <th></th>\n",
       "    </tr>\n",
       "  </thead>\n",
       "  <tbody>\n",
       "    <tr>\n",
       "      <th>Business Analyst</th>\n",
       "      <td>35000.0</td>\n",
       "    </tr>\n",
       "    <tr>\n",
       "      <th>Cloud Engineer</th>\n",
       "      <td>42000.0</td>\n",
       "    </tr>\n",
       "    <tr>\n",
       "      <th>Data Analyst</th>\n",
       "      <td>25000.0</td>\n",
       "    </tr>\n",
       "    <tr>\n",
       "      <th>Data Engineer</th>\n",
       "      <td>23496.0</td>\n",
       "    </tr>\n",
       "    <tr>\n",
       "      <th>Data Scientist</th>\n",
       "      <td>30000.0</td>\n",
       "    </tr>\n",
       "    <tr>\n",
       "      <th>Machine Learning Engineer</th>\n",
       "      <td>44408.5</td>\n",
       "    </tr>\n",
       "    <tr>\n",
       "      <th>Senior Data Analyst</th>\n",
       "      <td>35360.0</td>\n",
       "    </tr>\n",
       "    <tr>\n",
       "      <th>Senior Data Engineer</th>\n",
       "      <td>45000.0</td>\n",
       "    </tr>\n",
       "    <tr>\n",
       "      <th>Senior Data Scientist</th>\n",
       "      <td>55000.0</td>\n",
       "    </tr>\n",
       "    <tr>\n",
       "      <th>Software Engineer</th>\n",
       "      <td>48982.0</td>\n",
       "    </tr>\n",
       "  </tbody>\n",
       "</table>\n",
       "</div>"
      ],
      "text/plain": [
       "                           salary_year_avg\n",
       "job_title_short                           \n",
       "Business Analyst                   35000.0\n",
       "Cloud Engineer                     42000.0\n",
       "Data Analyst                       25000.0\n",
       "Data Engineer                      23496.0\n",
       "Data Scientist                     30000.0\n",
       "Machine Learning Engineer          44408.5\n",
       "Senior Data Analyst                35360.0\n",
       "Senior Data Engineer               45000.0\n",
       "Senior Data Scientist              55000.0\n",
       "Software Engineer                  48982.0"
      ]
     },
     "execution_count": 33,
     "metadata": {},
     "output_type": "execute_result"
    }
   ],
   "source": [
    "us_jobs.groupby('job_title_short')[['salary_year_avg']].min()\n"
   ]
  },
  {
   "cell_type": "code",
   "execution_count": 40,
   "id": "533ef42b",
   "metadata": {},
   "outputs": [
    {
     "data": {
      "text/html": [
       "<div>\n",
       "<style scoped>\n",
       "    .dataframe tbody tr th:only-of-type {\n",
       "        vertical-align: middle;\n",
       "    }\n",
       "\n",
       "    .dataframe tbody tr th {\n",
       "        vertical-align: top;\n",
       "    }\n",
       "\n",
       "    .dataframe thead th {\n",
       "        text-align: right;\n",
       "    }\n",
       "</style>\n",
       "<table border=\"1\" class=\"dataframe\">\n",
       "  <thead>\n",
       "    <tr style=\"text-align: right;\">\n",
       "      <th></th>\n",
       "      <th>median</th>\n",
       "      <th>min</th>\n",
       "      <th>max</th>\n",
       "      <th>count</th>\n",
       "    </tr>\n",
       "    <tr>\n",
       "      <th>job_title_short</th>\n",
       "      <th></th>\n",
       "      <th></th>\n",
       "      <th></th>\n",
       "      <th></th>\n",
       "    </tr>\n",
       "  </thead>\n",
       "  <tbody>\n",
       "    <tr>\n",
       "      <th>Senior Data Scientist</th>\n",
       "      <td>155000.0</td>\n",
       "      <td>55000.0</td>\n",
       "      <td>475000.0</td>\n",
       "      <td>1241</td>\n",
       "    </tr>\n",
       "    <tr>\n",
       "      <th>Machine Learning Engineer</th>\n",
       "      <td>150000.0</td>\n",
       "      <td>44408.5</td>\n",
       "      <td>315000.0</td>\n",
       "      <td>128</td>\n",
       "    </tr>\n",
       "    <tr>\n",
       "      <th>Senior Data Engineer</th>\n",
       "      <td>150000.0</td>\n",
       "      <td>45000.0</td>\n",
       "      <td>375000.0</td>\n",
       "      <td>1058</td>\n",
       "    </tr>\n",
       "    <tr>\n",
       "      <th>Data Scientist</th>\n",
       "      <td>130000.0</td>\n",
       "      <td>30000.0</td>\n",
       "      <td>960000.0</td>\n",
       "      <td>4553</td>\n",
       "    </tr>\n",
       "    <tr>\n",
       "      <th>Software Engineer</th>\n",
       "      <td>130000.0</td>\n",
       "      <td>48982.0</td>\n",
       "      <td>375000.0</td>\n",
       "      <td>157</td>\n",
       "    </tr>\n",
       "    <tr>\n",
       "      <th>Data Engineer</th>\n",
       "      <td>125000.0</td>\n",
       "      <td>23496.0</td>\n",
       "      <td>525000.0</td>\n",
       "      <td>2915</td>\n",
       "    </tr>\n",
       "    <tr>\n",
       "      <th>Cloud Engineer</th>\n",
       "      <td>116100.0</td>\n",
       "      <td>42000.0</td>\n",
       "      <td>221844.0</td>\n",
       "      <td>20</td>\n",
       "    </tr>\n",
       "    <tr>\n",
       "      <th>Senior Data Analyst</th>\n",
       "      <td>110000.0</td>\n",
       "      <td>35360.0</td>\n",
       "      <td>425000.0</td>\n",
       "      <td>913</td>\n",
       "    </tr>\n",
       "    <tr>\n",
       "      <th>Business Analyst</th>\n",
       "      <td>90000.0</td>\n",
       "      <td>35000.0</td>\n",
       "      <td>387460.0</td>\n",
       "      <td>431</td>\n",
       "    </tr>\n",
       "    <tr>\n",
       "      <th>Data Analyst</th>\n",
       "      <td>90000.0</td>\n",
       "      <td>25000.0</td>\n",
       "      <td>375000.0</td>\n",
       "      <td>4350</td>\n",
       "    </tr>\n",
       "  </tbody>\n",
       "</table>\n",
       "</div>"
      ],
      "text/plain": [
       "                             median      min       max  count\n",
       "job_title_short                                              \n",
       "Senior Data Scientist      155000.0  55000.0  475000.0   1241\n",
       "Machine Learning Engineer  150000.0  44408.5  315000.0    128\n",
       "Senior Data Engineer       150000.0  45000.0  375000.0   1058\n",
       "Data Scientist             130000.0  30000.0  960000.0   4553\n",
       "Software Engineer          130000.0  48982.0  375000.0    157\n",
       "Data Engineer              125000.0  23496.0  525000.0   2915\n",
       "Cloud Engineer             116100.0  42000.0  221844.0     20\n",
       "Senior Data Analyst        110000.0  35360.0  425000.0    913\n",
       "Business Analyst            90000.0  35000.0  387460.0    431\n",
       "Data Analyst                90000.0  25000.0  375000.0   4350"
      ]
     },
     "execution_count": 40,
     "metadata": {},
     "output_type": "execute_result"
    }
   ],
   "source": [
    "us_jobs.groupby('job_title_short')['salary_year_avg'].agg(['median','min','max','count']).sort_values(by='median',ascending=False)"
   ]
  },
  {
   "cell_type": "code",
   "execution_count": 52,
   "id": "4f88ecfc",
   "metadata": {},
   "outputs": [
    {
     "name": "stdout",
     "output_type": "stream",
     "text": [
      "job_posted_month\n",
      "1     91822\n",
      "2     64578\n",
      "3     64084\n",
      "4     62919\n",
      "5     52104\n",
      "6     61572\n",
      "7     63777\n",
      "8     75162\n",
      "9     62359\n",
      "10    66611\n",
      "11    64450\n",
      "12    56303\n",
      "Name: job_posted_month, dtype: int64\n"
     ]
    },
    {
     "data": {
      "text/plain": [
       "[<matplotlib.lines.Line2D at 0x1d9004fb9d0>]"
      ]
     },
     "execution_count": 52,
     "metadata": {},
     "output_type": "execute_result"
    },
    {
     "data": {
      "image/png": "[encoded data removed]",
      "text/plain": [
       "<Figure size 640x480 with 1 Axes>"
      ]
     },
     "metadata": {},
     "output_type": "display_data"
    }
   ],
   "source": [
    "## plot a line chart with number of jobs posted in a each month\n",
    "\n",
    "import matplotlib.pyplot as plt\n",
    "\n",
    "## lets now get jobs posted every month\n",
    "df['job_posted_month'] = df['job_posted_date'].dt.month\n",
    "number_of_jobs = df.groupby('job_posted_month').job_posted_month.count()\n",
    "print(number_of_jobs)\n",
    "\n",
    "plt.plot(number_of_jobs.index, number_of_jobs)"
   ]
  },
  {
   "cell_type": "code",
   "execution_count": 55,
   "id": "f33bcc82",
   "metadata": {},
   "outputs": [
    {
     "data": {
      "text/plain": [
       "<BarContainer object of 10 artists>"
      ]
     },
     "execution_count": 55,
     "metadata": {},
     "output_type": "execute_result"
    },
    {
     "data": {
      "image/png": "[encoded data removed]",
      "text/plain": [
       "<Figure size 640x480 with 1 Axes>"
      ]
     },
     "metadata": {},
     "output_type": "display_data"
    }
   ],
   "source": [
    "## let's plot the jobs posted per job title \n",
    "\n",
    "job_counts = df['job_title_short'].value_counts().sort_values(ascending=True)\n",
    "plt.barh(job_counts.index , job_counts.values)"
   ]
  }
 ],
 "metadata": {
  "kernelspec": {
   "display_name": "venv",
   "language": "python",
   "name": "python3"
  },
  "language_info": {
   "codemirror_mode": {
    "name": "ipython",
    "version": 3
   },
   "file_extension": ".py",
   "mimetype": "text/x-python",
   "name": "python",
   "nbconvert_exporter": "python",
   "pygments_lexer": "ipython3",
   "version": "3.13.5"
  }
 },
 "nbformat": 4,
 "nbformat_minor": 5
}
