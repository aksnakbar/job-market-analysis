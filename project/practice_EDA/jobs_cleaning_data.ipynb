{
 "cells": [
  {
   "cell_type": "code",
   "execution_count": 4,
   "id": "aa9d47e0",
   "metadata": {},
   "outputs": [
    {
     "name": "stdout",
     "output_type": "stream",
     "text": [
      "<class 'pandas.core.frame.DataFrame'>\n",
      "RangeIndex: 785741 entries, 0 to 785740\n",
      "Data columns (total 17 columns):\n",
      " #   Column                 Non-Null Count   Dtype         \n",
      "---  ------                 --------------   -----         \n",
      " 0   job_title_short        785741 non-null  object        \n",
      " 1   job_title              785740 non-null  object        \n",
      " 2   job_location           784696 non-null  object        \n",
      " 3   job_via                785733 non-null  object        \n",
      " 4   job_schedule_type      773074 non-null  object        \n",
      " 5   job_work_from_home     785741 non-null  bool          \n",
      " 6   search_location        785741 non-null  object        \n",
      " 7   job_posted_date        785741 non-null  datetime64[ns]\n",
      " 8   job_no_degree_mention  785741 non-null  bool          \n",
      " 9   job_health_insurance   785741 non-null  bool          \n",
      " 10  job_country            785692 non-null  object        \n",
      " 11  salary_rate            33067 non-null   object        \n",
      " 12  salary_year_avg        22003 non-null   float64       \n",
      " 13  salary_hour_avg        10662 non-null   float64       \n",
      " 14  company_name           785723 non-null  object        \n",
      " 15  job_skills             668704 non-null  object        \n",
      " 16  job_type_skills        668704 non-null  object        \n",
      "dtypes: bool(3), datetime64[ns](1), float64(2), object(11)\n",
      "memory usage: 86.2+ MB\n"
     ]
    }
   ],
   "source": [
    "#importing libraries \n",
    "\n",
    "import pandas as pd\n",
    "import matplotlib.pyplot as plt\n",
    "\n",
    "#for cleaner output display\n",
    "\n",
    "pd.set_option('display.max_columns', None)\n",
    "pd.set_option('display.width', 1000)\n",
    "\n",
    "\n",
    "#load data from the csv file\n",
    "\n",
    "file = 'C:\\\\Users\\\\aksha\\\\data_analysis_job_market\\\\dataset\\\\data_jobs.csv'\n",
    "df = pd.read_csv(file)\n",
    "#print(df.head())\n",
    "\n",
    "#Data cleanup : the job_posted_date is in string format so let's convert that into datetime object\n",
    "\n",
    "df['job_posted_date'] = pd.to_datetime(df.job_posted_date)\n",
    "df.info()"
   ]
  },
  {
   "cell_type": "code",
   "execution_count": 8,
   "id": "074b90df",
   "metadata": {},
   "outputs": [
    {
     "name": "stdout",
     "output_type": "stream",
     "text": [
      "    salary_year_avg  salary_hour_avg\n",
      "0          115000.0            45.98\n",
      "1          115000.0            45.98\n",
      "2          115000.0            45.98\n",
      "3          115000.0            45.98\n",
      "4          115000.0            45.98\n",
      "5          115000.0            45.98\n",
      "6          115000.0            45.98\n",
      "7          115000.0            45.98\n",
      "8          115000.0            45.98\n",
      "9          115000.0            45.98\n",
      "10         115000.0            45.98\n",
      "11         115000.0            45.98\n",
      "12         115000.0            45.98\n",
      "13         115000.0            45.98\n",
      "14         115000.0            45.98\n",
      "15         115000.0            45.98\n",
      "16         115000.0            45.98\n",
      "17         115000.0            45.98\n",
      "18         115000.0            45.98\n",
      "19         115000.0            45.98\n"
     ]
    }
   ],
   "source": [
    "# fill all the jobs that do not a specified salary with the median salary. Do this to both yearly and hourly\n",
    "\n",
    "median_salary_yearly = df['salary_year_avg'].median()\n",
    "median_salary_hourly = df['salary_hour_avg'].median()\n",
    "\n",
    "# fill all the NaN values in both the columns\n",
    "\n",
    "df_filled = df\n",
    "\n",
    "df_filled['salary_year_avg']= df_filled['salary_year_avg'].fillna(median_salary_yearly)\n",
    "df_filled['salary_hour_avg'] = df_filled['salary_hour_avg'].fillna(median_salary_hourly)\n",
    "\n",
    "print(df_filled[['salary_year_avg','salary_hour_avg']].head(20))\n",
    "\n"
   ]
  },
  {
   "cell_type": "code",
   "execution_count": 16,
   "id": "f44250ac",
   "metadata": {},
   "outputs": [
    {
     "name": "stdout",
     "output_type": "stream",
     "text": [
      "Length of the original data frame              : 785741\n",
      "Length of unique data frame without duplicates : 785640\n",
      "Number of duplicates                           : 101\n"
     ]
    }
   ],
   "source": [
    "## lets drop duplicate rows\n",
    "\n",
    "df_unique = df_filled\n",
    "df_unique = df_unique.drop_duplicates()\n",
    "\n",
    "print('Length of the original data frame              :', len(df_filled))\n",
    "print('Length of unique data frame without duplicates :', len(df_unique))\n",
    "print('Number of duplicates                           :', len(df_filled)-len(df_unique))"
   ]
  },
  {
   "cell_type": "code",
   "execution_count": 17,
   "id": "7d21315d",
   "metadata": {},
   "outputs": [
    {
     "name": "stdout",
     "output_type": "stream",
     "text": [
      "Length of the original data frame              : 785741\n",
      "Length of unique data frame without duplicates : 508042\n",
      "Number of duplicates                           : 277699\n"
     ]
    }
   ],
   "source": [
    "## lets drop duplicates of jobs posted from the same company\n",
    "\n",
    "df_unique = df_unique.drop_duplicates(subset=['job_title','company_name'])\n",
    "print('Length of the original data frame              :', len(df_filled))\n",
    "print('Length of unique data frame without duplicates :', len(df_unique))\n",
    "print('Number of duplicates                           :', len(df_filled)-len(df_unique))"
   ]
  }
 ],
 "metadata": {
  "kernelspec": {
   "display_name": "venv",
   "language": "python",
   "name": "python3"
  },
  "language_info": {
   "codemirror_mode": {
    "name": "ipython",
    "version": 3
   },
   "file_extension": ".py",
   "mimetype": "text/x-python",
   "name": "python",
   "nbconvert_exporter": "python",
   "pygments_lexer": "ipython3",
   "version": "3.13.5"
  }
 },
 "nbformat": 4,
 "nbformat_minor": 5
}
