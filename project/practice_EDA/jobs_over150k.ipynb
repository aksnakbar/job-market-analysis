{
 "cells": [
  {
   "cell_type": "code",
   "execution_count": 4,
   "id": "1d53abcd",
   "metadata": {},
   "outputs": [
    {
     "name": "stdout",
     "output_type": "stream",
     "text": [
      "The total number of jobs in USA are : 3792\n"
     ]
    }
   ],
   "source": [
    "import pandas as pd\n",
    "import matplotlib.pyplot as plt\n",
    "import ast\n",
    "\n",
    "pd.set_option('display.max_columns', None)\n",
    "pd.set_option('display.width', 1000)\n",
    "\n",
    "file = \"C:\\\\Users\\\\aksha\\\\data_analysis_job_market\\\\dataset\\\\data_jobs.csv\"\n",
    "df = pd.read_csv(file)\n",
    "\n",
    "\n",
    "## jobs in the US with salary greater than 150k\n",
    "\n",
    "df_US = df[(df['job_country']=='United States')&(df['salary_year_avg']>150000)].copy()\n",
    "print(f\"The total number of jobs in USA are : {df_US['job_title_short'].count()}\")\n"
   ]
  }
 ],
 "metadata": {
  "kernelspec": {
   "display_name": "venv",
   "language": "python",
   "name": "python3"
  },
  "language_info": {
   "codemirror_mode": {
    "name": "ipython",
    "version": 3
   },
   "file_extension": ".py",
   "mimetype": "text/x-python",
   "name": "python",
   "nbconvert_exporter": "python",
   "pygments_lexer": "ipython3",
   "version": "3.13.5"
  }
 },
 "nbformat": 4,
 "nbformat_minor": 5
}
